{
 "cells": [
  {
   "cell_type": "code",
   "execution_count": null,
   "metadata": {},
   "outputs": [],
   "source": [
    "import pandas as pd\n",
    "import seaborn as sns\n",
    "import matplotlib.pyplot as plt\n",
    "from collections import Counter"
   ]
  },
  {
   "cell_type": "code",
   "execution_count": null,
   "metadata": {},
   "outputs": [],
   "source": [
    "df = pd.read_csv('train_v2_drcat_02.csv')\n",
    "df.shape\n",
    "df.info()"
   ]
  },
  {
   "cell_type": "code",
   "execution_count": null,
   "metadata": {},
   "outputs": [],
   "source": [
    "df.nunique()"
   ]
  },
  {
   "cell_type": "code",
   "execution_count": null,
   "metadata": {},
   "outputs": [],
   "source": [
    "df.head()"
   ]
  },
  {
   "cell_type": "code",
   "execution_count": null,
   "metadata": {},
   "outputs": [],
   "source": [
    "df.tail()"
   ]
  },
  {
   "cell_type": "code",
   "execution_count": null,
   "metadata": {},
   "outputs": [],
   "source": [
    "#for oroginal in-balanced original_dataset\n",
    "# add a new col for the length of the essays written by students\n",
    "df['essay_length'] = df['text'].apply(len)\n",
    "\n",
    "sns.set(style='whitegrid')\n",
    "plt.figure(figsize=(14,7))\n",
    "\n",
    "\n",
    "# for students\n",
    "sns.histplot(df[df['label']==0]['essay_length'],color='lightgreen', label='student Essays', kde=True)\n",
    "\n",
    "# for AI generated essays\n",
    "sns.histplot(df[df['label']==1]['essay_length'],color='red', label='AI-generated Essays', kde=True)\n",
    "\n",
    "plt.title('length of the essays')\n",
    "plt.xlabel('Essay length (Charactor based)')\n",
    "plt.ylabel('Frequency')\n",
    "plt.legend()\n",
    "plt.show()"
   ]
  },
  {
   "cell_type": "code",
   "execution_count": null,
   "metadata": {},
   "outputs": [],
   "source": [
    "plt.figure(figsize=(12, 8))\n",
    "sns.boxplot(x='label', y='essay_length', data=df)\n",
    "plt.title('Comparison of Essay Lengths by Source')\n",
    "plt.xlabel('Essay Source')\n",
    "plt.ylabel('Essay Length')\n",
    "plt.xticks([0, 1], ['Student-written', 'LLM-generated'])\n",
    "plt.show()"
   ]
  },
  {
   "cell_type": "code",
   "execution_count": null,
   "metadata": {},
   "outputs": [],
   "source": [
    "def common_words(text_series, num_words=30, title=\"Most Common Words\"):\n",
    "    all_text = ' '.join(text_series).lower()\n",
    "    words = all_text.split()\n",
    "    word_freq = Counter(words)\n",
    "    common_words = word_freq.most_common(num_words)\n",
    "    print(common_words)\n",
    "    \n",
    "    # Plot the most common words\n",
    "    plt.figure(figsize=(15, 6))\n",
    "    sns.barplot(x=[word for word, freq in common_words], y=[freq for word, freq in common_words])\n",
    "    plt.title(title)\n",
    "    plt.xticks(rotation=45)\n",
    "    plt.xlabel('Words')\n",
    "    plt.ylabel('Frequency')\n",
    "    plt.show()\n",
    "\n",
    "common_words(df[df['label'] == 0]['text'], title=\"Most Common Words in Student Essays\")\n",
    "common_words(df[df['label'] == 1]['text'], title=\"Most Common Words in LLM-generated Essays\")"
   ]
  }
 ],
 "metadata": {
  "language_info": {
   "name": "python"
  }
 },
 "nbformat": 4,
 "nbformat_minor": 2
}
