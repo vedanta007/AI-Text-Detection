{
 "cells": [
  {
   "cell_type": "code",
   "execution_count": null,
   "metadata": {},
   "outputs": [],
   "source": [
    "import numpy as np\n",
    "import pandas as pd\n",
    "import pickle\n",
    "import seaborn as sns\n",
    "import matplotlib.pyplot as plt\n",
    "from sklearn.linear_model import SGDClassifier\n",
    "from sklearn.naive_bayes import MultinomialNB\n",
    "from sklearn.ensemble import VotingClassifier\n",
    "from sklearn.feature_extraction.text import TfidfVectorizer\n",
    "from sklearn.metrics import accuracy_score, precision_score, recall_score, f1_score, confusion_matrix, roc_curve, auc\n",
    "from sklearn.model_selection import train_test_split\n",
    "import xgboost as xgb"
   ]
  },
  {
   "cell_type": "code",
   "execution_count": null,
   "metadata": {},
   "outputs": [],
   "source": [
    "# Setting hyperparameters\n",
    "seed = 202"
   ]
  },
  {
   "cell_type": "code",
   "execution_count": null,
   "metadata": {},
   "outputs": [],
   "source": [
    "def seed_everything(seed=2023):\n",
    "    import random\n",
    "    random.seed(seed)\n",
    "    np.random.seed(seed)"
   ]
  },
  {
   "cell_type": "code",
   "execution_count": null,
   "metadata": {},
   "outputs": [],
   "source": [
    "def load_data():\n",
    "    train = pd.read_csv(\"train_v2_drcat_02.csv\")\n",
    "    return train"
   ]
  },
  {
   "cell_type": "code",
   "execution_count": null,
   "metadata": {},
   "outputs": [],
   "source": [
    "def vectorize_text(train_data):\n",
    "    min_ngram = 3\n",
    "    max_ngram = 4\n",
    "    vectorizer = TfidfVectorizer(ngram_range=(min_ngram, max_ngram), sublinear_tf=True)\n",
    "    X = vectorizer.fit_transform(train_data)\n",
    "    return X, vectorizer"
   ]
  },
  {
   "cell_type": "code",
   "execution_count": null,
   "metadata": {},
   "outputs": [],
   "source": [
    "def save_vectorizer(vectorizer):\n",
    "    with open('Models/vectorizer.pkl', 'wb') as file:\n",
    "        pickle.dump(vectorizer, file)"
   ]
  },
  {
   "cell_type": "code",
   "execution_count": null,
   "metadata": {},
   "outputs": [],
   "source": [
    "def create_models(random_state=None):\n",
    "    # SGD\n",
    "    sgd_model = SGDClassifier(max_iter=5000, tol=1e-3, loss=\"modified_huber\", random_state=random_state)  \n",
    "    sgd_model2 = SGDClassifier(max_iter=5000, tol=1e-3, loss=\"modified_huber\", random_state=(random_state + 1000) if random_state is not None else None, class_weight=\"balanced\") \n",
    "    sgd_model3 = SGDClassifier(max_iter=10000, tol=5e-4, loss=\"modified_huber\", random_state=(random_state + 2000) if random_state is not None else None, early_stopping=True)  \n",
    "    # MNB \n",
    "    mnb_model = MultinomialNB(alpha=0.02)\n",
    "    mnb_model2 = MultinomialNB(alpha=0.1)\n",
    "    mnb_model3 = MultinomialNB(alpha=0.2)\n",
    "    # Voting Classifier\n",
    "    estimators=[\n",
    "        ('sgd1', sgd_model), \n",
    "        ('sgd2', sgd_model2),\n",
    "        ('sgd3', sgd_model3),\n",
    "        ('mnb1', mnb_model),\n",
    "        ('mnb2', mnb_model2),\n",
    "        ('mnb3', mnb_model3),\n",
    "    ]\n",
    "    # Create the ensemble model\n",
    "    ensemble = VotingClassifier(\n",
    "        estimators=estimators,\n",
    "        voting='soft',\n",
    "        verbose=0,\n",
    "    )\n",
    "    return ensemble"
   ]
  },
  {
   "cell_type": "code",
   "execution_count": null,
   "metadata": {},
   "outputs": [],
   "source": [
    "def train_model(model, X, y):\n",
    "    model.fit(X, y)\n",
    "    return model"
   ]
  },
  {
   "cell_type": "code",
   "execution_count": null,
   "metadata": {},
   "outputs": [],
   "source": [
    "def evaluate_model(model, X, y):\n",
    "    predictions = model.predict(X)\n",
    "    y_prob = predictions.ravel()\n",
    "    accuracy = accuracy_score(y, predictions)\n",
    "    precision = precision_score(y, predictions)\n",
    "    recall = recall_score(y, predictions)\n",
    "    f1 = f1_score(y, predictions)\n",
    "    cm = confusion_matrix(y, predictions)\n",
    "    fpr, tpr, thresholds = roc_curve(y, y_prob)\n",
    "    roc_auc = auc(fpr, tpr)\n",
    "    print(\"Test Accuracy: {:.2f}%\".format(accuracy*100))\n",
    "    print(\"Test Precision: {:.2f}%\".format(precision*100))\n",
    "    print(\"Test Recall: {:.2f}%\".format(recall*100))\n",
    "    print(\"Test F1-score: {:.2f}%\".format(f1*100))\n",
    "    plt.figure(figsize=(8, 6))\n",
    "    sns.heatmap(cm, annot=True, cmap=\"Blues\", fmt=\"d\", cbar=False)\n",
    "    plt.title('Confusion Matrix')\n",
    "    plt.xlabel('Predicted Labels')\n",
    "    plt.ylabel('True Labels')\n",
    "    plt.show()\n",
    "    plt.figure(figsize=(8, 6))\n",
    "    plt.plot(fpr, tpr, color='darkorange', lw=2, label='ROC curve (area = %0.2f)' % roc_auc)\n",
    "    plt.plot([0, 1], [0, 1], color='navy', lw=2, linestyle='--')\n",
    "    plt.xlabel('False Positive Rate')\n",
    "    plt.ylabel('True Positive Rate')\n",
    "    plt.title('Receiver Operating Characteristic (ROC) Curve')\n",
    "    plt.legend(loc=\"lower right\")\n",
    "    plt.show()"
   ]
  },
  {
   "cell_type": "code",
   "execution_count": null,
   "metadata": {},
   "outputs": [],
   "source": [
    "def save_model(saved_model):\n",
    "    with open('Models/VotingClassifier.pkl', 'wb') as file:\n",
    "        pickle.dump(saved_model, file)"
   ]
  },
  {
   "cell_type": "code",
   "execution_count": null,
   "metadata": {},
   "outputs": [],
   "source": [
    "def classify_input(model, vectorizer):\n",
    "    while True:\n",
    "        user_input = input('Enter a text string to classify (or \"exit\" to quit): ')\n",
    "        if user_input.lower() == 'exit':\n",
    "            break\n",
    "        if user_input.lower() == '':\n",
    "            continue\n",
    "        f = vectorizer.transform([user_input])\n",
    "        prediction = model.predict_proba(f)\n",
    "        if prediction[0][1] > 0.5:\n",
    "            print(\"Text classified as AI.\")\n",
    "        else:\n",
    "            print(\"Text classified as human.\")\n",
    "    print(\"END\")"
   ]
  },
  {
   "cell_type": "code",
   "execution_count": null,
   "metadata": {},
   "outputs": [],
   "source": [
    "if __name__ == '__main__':\n",
    "    seed_everything(seed)\n",
    "    data = load_data()\n",
    "    \n",
    "    # Split data into training and testing sets\n",
    "    train_text, test_text, train_labels, test_labels = train_test_split(data['text'], data['label'], test_size=0.2)\n",
    "    \n",
    "    # Vectorize text data\n",
    "    X_train_vectorized, vectorizer = vectorize_text(train_text)\n",
    "    save_vectorizer(vectorizer)\n",
    "    X_test_vectorized = vectorizer.transform(test_text)\n",
    "    \n",
    "    # Create and train the model\n",
    "    model = create_models(random_state=seed)\n",
    "    trained_model = train_model(model, X_train_vectorized, train_labels)\n",
    "    \n",
    "    # Evaluate the model\n",
    "    evaluate_model(trained_model, X_test_vectorized, test_labels)\n",
    "    \n",
    "    # Save the model\n",
    "    save_model(trained_model)\n",
    "    \n",
    "    # Allow interactive classification\n",
    "    classify_input(trained_model, vectorizer)"
   ]
  }
 ],
 "metadata": {
  "language_info": {
   "name": "python"
  }
 },
 "nbformat": 4,
 "nbformat_minor": 2
}
