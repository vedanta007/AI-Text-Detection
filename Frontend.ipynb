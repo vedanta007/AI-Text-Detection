{
 "cells": [
  {
   "cell_type": "code",
   "execution_count": null,
   "metadata": {},
   "outputs": [],
   "source": [
    "from flask import Flask, request, render_template\n",
    "import pickle\n",
    "from tensorflow.keras.preprocessing.sequence import pad_sequences\n",
    "import numpy as np\n",
    "import pandas as pd"
   ]
  },
  {
   "cell_type": "code",
   "execution_count": null,
   "metadata": {},
   "outputs": [],
   "source": [
    "app = Flask(__name__)\n",
    "\n",
    "# Load the saved models\n",
    "with open('Models/CNN.pkl', 'rb') as f:\n",
    "    cnn_model = pickle.load(f)\n",
    "\n",
    "with open('Models/VotingClassifier.pkl', 'rb') as f:\n",
    "    sgd_model = pickle.load(f)\n",
    "\n",
    "# Load the tokenizer and vectorizer\n",
    "with open('Models/tokenizer.pkl', 'rb') as f:\n",
    "    tokenizer = pickle.load(f)\n",
    "\n",
    "with open('Models/vectorizer.pkl', 'rb') as f:\n",
    "    vectorizer = pickle.load(f)\n",
    "\n",
    "@app.route('/', methods=['GET', 'POST'])\n",
    "def index():\n",
    "    if request.method == 'POST':\n",
    "        text = request.form['text']\n",
    "        model_name = request.form['model']\n",
    "        result = classify_text(text, model_name)\n",
    "        return render_template('index.html', result=result)\n",
    "    return render_template('index.html', result=None)\n",
    "\n",
    "def preprocess_text(text, model_name):\n",
    "    if model_name == 'CNN':\n",
    "        sequence = pad_sequences(tokenizer.texts_to_sequences([text]), maxlen=100)\n",
    "        return sequence\n",
    "    elif model_name == 'VotingClassifier':\n",
    "        text_vectorized = vectorizer.transform([text])\n",
    "        return text_vectorized\n",
    "\n",
    "def classify_text(text, model_name):\n",
    "    preprocessed_text = preprocess_text(text, model_name)\n",
    "    if model_name == 'CNN':\n",
    "        model = cnn_model\n",
    "        prediction = model.predict(preprocessed_text)[0][0]\n",
    "    elif model_name == 'VotingClassifier':\n",
    "        model = sgd_model\n",
    "        prediction = model.predict_proba(preprocessed_text)[0][1]\n",
    "    else:\n",
    "        return 'Invalid model selected'\n",
    "    \n",
    "    if prediction > 0.5:\n",
    "        return \"Text classified as AI.\"\n",
    "    else:\n",
    "        return \"Text classified as human.\"\n",
    "\n",
    "if __name__ == '__main__':\n",
    "    app.run()"
   ]
  }
 ],
 "metadata": {
  "language_info": {
   "name": "python"
  }
 },
 "nbformat": 4,
 "nbformat_minor": 2
}
