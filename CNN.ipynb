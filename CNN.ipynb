{
 "cells": [
  {
   "cell_type": "code",
   "execution_count": null,
   "metadata": {},
   "outputs": [],
   "source": [
    "import numpy as np\n",
    "import pandas as pd\n",
    "import pickle\n",
    "import seaborn as sns\n",
    "import matplotlib.pyplot as plt\n",
    "from sklearn.metrics import accuracy_score, precision_score, recall_score, f1_score, confusion_matrix, roc_curve, auc\n",
    "from sklearn.model_selection import train_test_split\n",
    "from tensorflow.keras.layers import Input, Embedding, Conv1D, MaxPooling1D, Flatten, Dense\n",
    "from tensorflow.keras.models import Model\n",
    "from tensorflow.keras.preprocessing.text import Tokenizer\n",
    "from tensorflow.keras.preprocessing.sequence import pad_sequences"
   ]
  },
  {
   "cell_type": "code",
   "execution_count": null,
   "metadata": {},
   "outputs": [],
   "source": [
    "# Setting hyperparameters\n",
    "seed = 202"
   ]
  },
  {
   "cell_type": "code",
   "execution_count": null,
   "metadata": {},
   "outputs": [],
   "source": [
    "def seed_everything(seed=2023):\n",
    "    import random\n",
    "    random.seed(seed)\n",
    "    np.random.seed(seed)"
   ]
  },
  {
   "cell_type": "code",
   "execution_count": null,
   "metadata": {},
   "outputs": [],
   "source": [
    "def load_data():\n",
    "    data = pd.read_csv(\"train_v2_drcat_02.csv\")\n",
    "    return data"
   ]
  },
  {
   "cell_type": "code",
   "execution_count": null,
   "metadata": {},
   "outputs": [],
   "source": [
    "def tokenize_data(train_data, test_data):\n",
    "    tokenizer = Tokenizer(num_words=5000)\n",
    "    tokenizer.fit_on_texts(train_data)\n",
    "    train_sequences = pad_sequences(tokenizer.texts_to_sequences(train_data), maxlen=100)\n",
    "    test_sequences = pad_sequences(tokenizer.texts_to_sequences(test_data), maxlen=100)\n",
    "    return tokenizer, train_sequences, test_sequences"
   ]
  },
  {
   "cell_type": "code",
   "execution_count": null,
   "metadata": {},
   "outputs": [],
   "source": [
    "def save_tokenizer(tokenizer):\n",
    "    with open('Models/tokenizer.pkl', 'wb') as file:\n",
    "        pickle.dump(tokenizer, file)"
   ]
  },
  {
   "cell_type": "code",
   "execution_count": null,
   "metadata": {},
   "outputs": [],
   "source": [
    "def define_model():\n",
    "    input_layer = Input(shape=(100,))\n",
    "    embedding_layer = Embedding(input_dim=5000, output_dim=50)(input_layer)\n",
    "    conv_layer = Conv1D(filters=128, kernel_size=5, activation='relu')(embedding_layer)\n",
    "    pooling_layer = MaxPooling1D(pool_size=5)(conv_layer)\n",
    "    flatten_layer = Flatten()(pooling_layer)\n",
    "    output_layer = Dense(units=1, activation='sigmoid')(flatten_layer)\n",
    "    model = Model(inputs=input_layer, outputs=output_layer)\n",
    "    model.compile(loss='binary_crossentropy', optimizer='adam', metrics=['accuracy'])\n",
    "    return model"
   ]
  },
  {
   "cell_type": "code",
   "execution_count": null,
   "metadata": {},
   "outputs": [],
   "source": [
    "def train_model(model, sequences_train, labels_train, sequences_test, labels_test):\n",
    "    model.fit(sequences_train, labels_train, epochs=5, batch_size=4, validation_data=(sequences_test, labels_test))\n",
    "    return model"
   ]
  },
  {
   "cell_type": "code",
   "execution_count": null,
   "metadata": {},
   "outputs": [],
   "source": [
    "def evaluate_model_cnn(model, sequences_test, labels_test):\n",
    "    loss, accuracy = model.evaluate(sequences_test, labels_test)\n",
    "    predictions = model.predict(sequences_test)\n",
    "    predictions = predictions.round().astype(int)  # Round for binary classification\n",
    "    y_prob = predictions.ravel()\n",
    "    \n",
    "    # Calculate performance metrics\n",
    "    precision = precision_score(labels_test, predictions)\n",
    "    recall = recall_score(labels_test, predictions)\n",
    "    f1 = f1_score(labels_test, predictions)\n",
    "    cm = confusion_matrix(labels_test, predictions)\n",
    "    fpr, tpr, thresholds = roc_curve(labels_test, y_prob)\n",
    "    roc_auc = auc(fpr, tpr)\n",
    "    \n",
    "    # Print performance metrics\n",
    "    print(\"Test Accuracy: {:.2f}%\".format(accuracy*100))\n",
    "    print(\"Test Precision: {:.2f}%\".format(precision*100))\n",
    "    print(\"Test Recall: {:.2f}%\".format(recall*100))\n",
    "    print(\"Test F1-score: {:.2f}%\".format(f1*100))\n",
    "    \n",
    "    # Print confusion matrix\n",
    "    plt.figure(figsize=(8, 6))\n",
    "    sns.heatmap(cm, annot=True, cmap=\"Blues\", fmt=\"d\", cbar=False)\n",
    "    plt.title('Confusion Matrix')\n",
    "    plt.xlabel('Predicted Labels')\n",
    "    plt.ylabel('True Labels')\n",
    "    plt.show()\n",
    "    \n",
    "    #print ROC curve\n",
    "    plt.figure(figsize=(8, 6))\n",
    "    plt.plot(fpr, tpr, color='darkorange', lw=2, label='ROC curve (area = %0.2f)' % roc_auc)\n",
    "    plt.plot([0, 1], [0, 1], color='navy', lw=2, linestyle='--')\n",
    "    plt.xlabel('False Positive Rate')\n",
    "    plt.ylabel('True Positive Rate')\n",
    "    plt.title('Receiver Operating Characteristic (ROC) Curve')\n",
    "    plt.legend(loc=\"lower right\")\n",
    "    plt.show()"
   ]
  },
  {
   "cell_type": "code",
   "execution_count": null,
   "metadata": {},
   "outputs": [],
   "source": [
    "def save_model(saved_model):\n",
    "    with open('Models/CNN.pkl', 'wb') as file:\n",
    "        pickle.dump(saved_model, file)"
   ]
  },
  {
   "cell_type": "code",
   "execution_count": null,
   "metadata": {},
   "outputs": [],
   "source": [
    "def classify_input(model, tokenizer):\n",
    "    while True:\n",
    "        user_input = input('Enter a text string to classify (or \"exit\" to quit): ')\n",
    "        if user_input.lower() == 'exit':\n",
    "            break\n",
    "        if user_input.lower() == '':\n",
    "            continue\n",
    "        sequence = pad_sequences(tokenizer.texts_to_sequences([user_input]), maxlen=100)\n",
    "        prediction = model.predict(sequence)[0][0]\n",
    "        if prediction > 0.5:\n",
    "            print(\"Text classified as AI.\")\n",
    "        else:\n",
    "            print(\"Text classified as human.\")\n",
    "    print(\"END\")"
   ]
  },
  {
   "cell_type": "code",
   "execution_count": null,
   "metadata": {},
   "outputs": [],
   "source": [
    "if __name__ == '__main__':\n",
    "    seed_everything(seed)\n",
    "    data = load_data()\n",
    "    train_text, test_text, train_labels, test_labels = train_test_split(data['text'], data['label'], test_size=0.2)\n",
    "    tokenizer, train_sequences, test_sequences = tokenize_data(train_text, test_text)\n",
    "    save_tokenizer(tokenizer)\n",
    "    model = define_model()\n",
    "    trained_model = train_model(model, train_sequences, train_labels, test_sequences, test_labels)\n",
    "    evaluate_model_cnn(trained_model, test_sequences, test_labels)\n",
    "    save_model(trained_model)\n",
    "    classify_input(trained_model, tokenizer)"
   ]
  }
 ],
 "metadata": {
  "language_info": {
   "name": "python"
  }
 },
 "nbformat": 4,
 "nbformat_minor": 2
}
